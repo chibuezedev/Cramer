{
  "nbformat": 4,
  "nbformat_minor": 0,
  "metadata": {
    "colab": {
      "provenance": [],
      "authorship_tag": "ABX9TyNsLHgTo7Wwy1t5XL08RJjm",
      "include_colab_link": true
    },
    "kernelspec": {
      "name": "python3",
      "display_name": "Python 3"
    },
    "language_info": {
      "name": "python"
    }
  },
  "cells": [
    {
      "cell_type": "markdown",
      "metadata": {
        "id": "view-in-github",
        "colab_type": "text"
      },
      "source": [
        "<a href=\"https://colab.research.google.com/github/chibuezedev/MMTD/blob/main/MMTD.ipynb\" target=\"_parent\"><img src=\"https://colab.research.google.com/assets/colab-badge.svg\" alt=\"Open In Colab\"/></a>"
      ]
    },
    {
      "cell_type": "code",
      "source": [
        "import pandas as pd\n",
        "import matplotlib.pyplot as plt\n",
        "import seaborn as sns\n",
        "from sklearn.model_selection import train_test_split\n",
        "import os\n",
        "import random\n",
        "from tqdm import tqdm\n",
        "\n",
        "\n",
        "import torch\n",
        "import torch.nn as nn\n",
        "import torch.optim as optim\n",
        "from torch.utils.data import Dataset, DataLoader\n",
        "import torchvision.models as models\n",
        "import torchvision.transforms as transforms\n",
        "from transformers import BertModel, BertTokenizer, RobertaModel, RobertaTokenizer, XLMRobertaTokenizer, XLMRobertaModel, XLMRobertaTokenizer\n",
        "from sklearn.model_selection import train_test_split\n",
        "from sklearn.metrics import accuracy_score, precision_score, recall_score, f1_score, confusion_matrix\n",
        "import numpy as np\n",
        "from PIL import Image\n",
        "import matplotlib.pyplot as plt\n",
        "import seaborn as sns\n",
        "\n",
        "\n",
        "# Set random seed for reproducibility\n",
        "torch.manual_seed(42)\n",
        "np.random.seed(42)"
      ],
      "metadata": {
        "id": "uBoKxWz-3C7R"
      },
      "execution_count": null,
      "outputs": []
    },
    {
      "cell_type": "code",
      "source": [
        "# Load the dataset\n",
        "df = pd.read_csv('data-en-hi-de-fr.csv')\n",
        "\n",
        "# Display basic information\n",
        "print(df.info())\n",
        "print(df.head())\n",
        "\n",
        "# Check class distribution\n",
        "plt.figure(figsize=(10, 6))\n",
        "sns.countplot(x='labels', data=df)\n",
        "plt.title('Distribution of Spam and Ham')\n",
        "plt.show()\n",
        "\n",
        "# Preprocess the dataset\n",
        "# Ensure 'labels' column is binary (0 for ham, 1 for spam)\n",
        "df['labels'] = df['labels'].map({'ham': 0, 'spam': 1})\n",
        "\n",
        "# Restructure the dataframe to have a single 'text' column and a 'language' column\n",
        "languages = ['en', 'hi', 'de', 'fr']\n",
        "new_rows = []\n",
        "\n",
        "for _, row in df.iterrows():\n",
        "    for lang in languages:\n",
        "        if lang == 'en':\n",
        "            text_col = 'text'\n",
        "        else:\n",
        "            text_col = f'text_{lang}'\n",
        "        new_rows.append({\n",
        "            'label': row['labels'],\n",
        "            'text': row[text_col],\n",
        "            'language': lang\n",
        "        })\n",
        "\n",
        "new_df = pd.DataFrame(new_rows)\n",
        "\n",
        "# Check language distribution\n",
        "plt.figure(figsize=(10, 6))\n",
        "sns.countplot(x='language', data=new_df)\n",
        "plt.title('Distribution of Languages')\n",
        "plt.show()\n",
        "\n",
        "# Split the dataset into train and test sets\n",
        "train_df, test_df = train_test_split(new_df, test_size=0.2, stratify=new_df[['label', 'language']], random_state=42)\n",
        "\n",
        "print(f\"Training set shape: {train_df.shape}\")\n",
        "print(f\"Test set shape: {test_df.shape}\")\n"
      ],
      "metadata": {
        "colab": {
          "base_uri": "https://localhost:8080/",
          "height": 1000
        },
        "id": "iIWqPHEei9Sz",
        "outputId": "254a513a-1004-43cb-906e-fbe6eebfe966"
      },
      "execution_count": null,
      "outputs": [
        {
          "output_type": "stream",
          "name": "stdout",
          "text": [
            "<class 'pandas.core.frame.DataFrame'>\n",
            "RangeIndex: 5572 entries, 0 to 5571\n",
            "Data columns (total 5 columns):\n",
            " #   Column   Non-Null Count  Dtype \n",
            "---  ------   --------------  ----- \n",
            " 0   labels   5572 non-null   object\n",
            " 1   text     5572 non-null   object\n",
            " 2   text_hi  5572 non-null   object\n",
            " 3   text_de  5572 non-null   object\n",
            " 4   text_fr  5572 non-null   object\n",
            "dtypes: object(5)\n",
            "memory usage: 217.8+ KB\n",
            "None\n",
            "  labels                                               text  \\\n",
            "0    ham  Go until jurong point, crazy.. Available only ...   \n",
            "1    ham                      Ok lar... Joking wif u oni...   \n",
            "2   spam  Free entry in 2 a wkly comp to win FA Cup fina...   \n",
            "3    ham  U dun say so early hor... U c already then say...   \n",
            "4    ham  Nah I don't think he goes to usf, he lives aro...   \n",
            "\n",
            "                                             text_hi  \\\n",
            "0  Dakag बिंदु तक जाओ, पागल. केवल Bag Non महान वि...   \n",
            "1                         ओके लामर.... if if uue पर.   \n",
            "2  Fktatatat 21 मई को प्राप्त करने के लिए मुफ्त प...   \n",
            "3  Uden इतना जल्दी कहते हैं... तो पहले से ही यूसी...   \n",
            "4  नहीं, मुझे नहीं लगता कि वह हमारे लिए चला जाता ...   \n",
            "\n",
            "                                             text_de  \\\n",
            "0  Gehen Sie bis jurong Punkt, verrückt.. Verfügb...   \n",
            "1                      Ok Lar... joking wif u oni...   \n",
            "2  Freier Eintritt in 2 a wkly comp zum Gewinn FA...   \n",
            "3     U dun sagen so früh... U c schon dann sagen...   \n",
            "4  Nein, ich glaube nicht, dass er zu unsf geht, ...   \n",
            "\n",
            "                                             text_fr  \n",
            "0  Allez jusqu'à Jurong point, fou.. Disponible s...  \n",
            "1           J'ai fait une blague sur le wif u oni...  \n",
            "2  Entrée libre dans 2 a wkly comp pour gagner FA...  \n",
            "3     U dun dit si tôt hor... U c déjà dire alors...  \n",
            "4  Non, je ne pense pas qu'il va à usf, il vit da...  \n"
          ]
        },
        {
          "output_type": "display_data",
          "data": {
            "text/plain": [
              "<Figure size 1000x600 with 1 Axes>"
            ],
            "image/png": "[encoded data removed]"
          },
          "metadata": {}
        },
        {
          "output_type": "display_data",
          "data": {
            "text/plain": [
              "<Figure size 1000x600 with 1 Axes>"
            ],
            "image/png": "[encoded data removed]"
          },
          "metadata": {}
        },
        {
          "output_type": "stream",
          "name": "stdout",
          "text": [
            "Training set shape: (17830, 3)\n",
            "Test set shape: (4458, 3)\n"
          ]
        }
      ]
    },
    {
      "cell_type": "code",
      "source": [
        "import random\n",
        "# Now, let's add an image component\n",
        "spam_images = os.listdir('spam_images')\n",
        "ham_images = os.listdir('ham_images')\n",
        "\n",
        "def assign_image(row):\n",
        "    if row['label'] == 1:  # spam\n",
        "        return f\"spam_images/{random.choice(spam_images)}\"\n",
        "    else:  # ham\n",
        "        return f\"ham_images/{random.choice(ham_images)}\"\n",
        "\n",
        "# Add image paths to both train and test dataframes\n",
        "train_df['image_path'] = train_df.apply(assign_image, axis=1)\n",
        "test_df['image_path'] = test_df.apply(assign_image, axis=1)\n",
        "\n",
        "# Save the preprocessed datasets\n",
        "train_df.to_csv('train_multilingual_multimodal_spam.csv', index=False)\n",
        "test_df.to_csv('test_multilingual_multimodal_spam.csv', index=False)\n",
        "\n",
        "print(\"Preprocessing complete. Datasets saved as CSV files.\")\n",
        "\n",
        "# Display sample of the final dataset\n",
        "print(train_df.head())"
      ],
      "metadata": {
        "colab": {
          "base_uri": "https://localhost:8080/"
        },
        "id": "qJp-CyKkrxqp",
        "outputId": "9d5259c8-09aa-4fa4-e53a-5e2c7cd78527"
      },
      "execution_count": null,
      "outputs": [
        {
          "output_type": "stream",
          "name": "stdout",
          "text": [
            "Preprocessing complete. Datasets saved as CSV files.\n",
            "       label                                               text language  \\\n",
            "7466       0  Rufen Sie die Nummer an, die nach Vereinbarung...       de   \n",
            "8041       0  मैं इस के माध्यम से आगे नहीं बढ़ सकता. यह कभी ...       hi   \n",
            "14135      0  En fait, mon mobile est plein de msg. Et je fa...       fr   \n",
            "3261       1  Smamawawavon520 पर Smaka Pyr. 2 को फिर से करने...       hi   \n",
            "11972      0          K.i did't see you.:)k:)where are you now?       en   \n",
            "\n",
            "                                      image_path  \n",
            "7466   ham_images/zzz_412523576_045b3e623c_m.jpg  \n",
            "8041       ham_images/zzz_82495_d51590f351_m.jpg  \n",
            "14135      ham_images/zzz_65443_8037b212d7_m.jpg  \n",
            "3261                  spam_images/D2gfNHPSLU.jpg  \n",
            "11972       ham_images/zzz_7359_449584eb9a_m.jpg  \n"
          ]
        }
      ]
    },
    {
      "cell_type": "code",
      "source": [
        "# Print some statistics\n",
        "print(\"\\nDataset Statistics:\")\n",
        "print(f\"Total samples: {len(train_df) + len(test_df)}\")\n",
        "print(f\"Training samples: {len(train_df)}\")\n",
        "print(f\"Testing samples: {len(test_df)}\")\n",
        "print(\"\\nLabel distribution in training set:\")\n",
        "print(train_df['label'].value_counts(normalize=True))\n",
        "print(\"\\nLanguage distribution in training set:\")\n",
        "print(train_df['language'].value_counts(normalize=True))"
      ],
      "metadata": {
        "colab": {
          "base_uri": "https://localhost:8080/"
        },
        "id": "60ClliEmz_Yc",
        "outputId": "ee548adf-4eec-4dd5-913d-6012cbc0b17b"
      },
      "execution_count": null,
      "outputs": [
        {
          "output_type": "stream",
          "name": "stdout",
          "text": [
            "\n",
            "Dataset Statistics:\n",
            "Total samples: 22288\n",
            "Training samples: 17830\n",
            "Testing samples: 4458\n",
            "\n",
            "Label distribution in training set:\n",
            "label\n",
            "0    0.865956\n",
            "1    0.134044\n",
            "Name: proportion, dtype: float64\n",
            "\n",
            "Language distribution in training set:\n",
            "language\n",
            "hi    0.250028\n",
            "en    0.250028\n",
            "de    0.249972\n",
            "fr    0.249972\n",
            "Name: proportion, dtype: float64\n"
          ]
        }
      ]
    },
    {
      "cell_type": "code",
      "source": [
        "from tqdm import tqdm\n",
        "# Check image availability\n",
        "print(\"\\nChecking image availability...\")\n",
        "missing_images = 0\n",
        "for idx, row in tqdm(train_df.iterrows(), total=len(train_df)):\n",
        "    if not os.path.exists(row['image_path']):\n",
        "        missing_images += 1\n",
        "print(f\"Number of missing images in training set: {missing_images}\")\n",
        "\n",
        "missing_images = 0\n",
        "for idx, row in tqdm(test_df.iterrows(), total=len(test_df)):\n",
        "    if not os.path.exists(row['image_path']):\n",
        "        missing_images += 1\n",
        "print(f\"Number of missing images in test set: {missing_images}\")"
      ],
      "metadata": {
        "colab": {
          "base_uri": "https://localhost:8080/"
        },
        "id": "yHR2qLn60GaT",
        "outputId": "7b022127-c0c5-4fa3-a2f4-75f11c678b74"
      },
      "execution_count": null,
      "outputs": [
        {
          "output_type": "stream",
          "name": "stdout",
          "text": [
            "\n",
            "Checking image availability...\n"
          ]
        },
        {
          "output_type": "stream",
          "name": "stderr",
          "text": [
            "100%|██████████| 17830/17830 [00:01<00:00, 16116.91it/s]\n"
          ]
        },
        {
          "output_type": "stream",
          "name": "stdout",
          "text": [
            "Number of missing images in training set: 0\n"
          ]
        },
        {
          "output_type": "stream",
          "name": "stderr",
          "text": [
            "100%|██████████| 4458/4458 [00:00<00:00, 13736.36it/s]"
          ]
        },
        {
          "output_type": "stream",
          "name": "stdout",
          "text": [
            "Number of missing images in test set: 0\n"
          ]
        },
        {
          "output_type": "stream",
          "name": "stderr",
          "text": [
            "\n"
          ]
        }
      ]
    },
    {
      "cell_type": "code",
      "source": [
        "\n",
        "# Load the CSV files\n",
        "train_df = pd.read_csv('train_multilingual_multimodal_spam.csv')\n",
        "test_df = pd.read_csv('test_multilingual_multimodal_spam.csv')\n",
        "\n",
        "# Print basic information\n",
        "print(\"Train DataFrame:\")\n",
        "print(train_df.info())\n",
        "print(\"\\nTest DataFrame:\")\n",
        "print(test_df.info())\n",
        "\n",
        "# Display a few rows\n",
        "print(\"\\nSample rows from train_df:\")\n",
        "print(train_df.head())"
      ],
      "metadata": {
        "colab": {
          "base_uri": "https://localhost:8080/"
        },
        "id": "0cxgS9MfHGRZ",
        "outputId": "36e61085-cf58-420c-c700-458c7a7acd23"
      },
      "execution_count": null,
      "outputs": [
        {
          "output_type": "stream",
          "name": "stdout",
          "text": [
            "Train DataFrame:\n",
            "<class 'pandas.core.frame.DataFrame'>\n",
            "RangeIndex: 17830 entries, 0 to 17829\n",
            "Data columns (total 4 columns):\n",
            " #   Column      Non-Null Count  Dtype \n",
            "---  ------      --------------  ----- \n",
            " 0   label       17830 non-null  int64 \n",
            " 1   text        17830 non-null  object\n",
            " 2   language    17830 non-null  object\n",
            " 3   image_path  17830 non-null  object\n",
            "dtypes: int64(1), object(3)\n",
            "memory usage: 557.3+ KB\n",
            "None\n",
            "\n",
            "Test DataFrame:\n",
            "<class 'pandas.core.frame.DataFrame'>\n",
            "RangeIndex: 4458 entries, 0 to 4457\n",
            "Data columns (total 4 columns):\n",
            " #   Column      Non-Null Count  Dtype \n",
            "---  ------      --------------  ----- \n",
            " 0   label       4458 non-null   int64 \n",
            " 1   text        4458 non-null   object\n",
            " 2   language    4458 non-null   object\n",
            " 3   image_path  4458 non-null   object\n",
            "dtypes: int64(1), object(3)\n",
            "memory usage: 139.4+ KB\n",
            "None\n",
            "\n",
            "Sample rows from train_df:\n",
            "   label                                               text language  \\\n",
            "0      0  Rufen Sie die Nummer an, die nach Vereinbarung...       de   \n",
            "1      0  मैं इस के माध्यम से आगे नहीं बढ़ सकता. यह कभी ...       hi   \n",
            "2      0  En fait, mon mobile est plein de msg. Et je fa...       fr   \n",
            "3      1  Smamawawavon520 पर Smaka Pyr. 2 को फिर से करने...       hi   \n",
            "4      0          K.i did't see you.:)k:)where are you now?       en   \n",
            "\n",
            "                                  image_path  \n",
            "0  ham_images/zzz_412523576_045b3e623c_m.jpg  \n",
            "1      ham_images/zzz_82495_d51590f351_m.jpg  \n",
            "2      ham_images/zzz_65443_8037b212d7_m.jpg  \n",
            "3                 spam_images/D2gfNHPSLU.jpg  \n",
            "4       ham_images/zzz_7359_449584eb9a_m.jpg  \n"
          ]
        }
      ]
    },
    {
      "cell_type": "code",
      "source": [
        "import torch\n",
        "from torch.utils.data import DataLoader\n",
        "from sklearn.model_selection import train_test_split\n",
        "from transformers import XLMRobertaTokenizer\n",
        "import torchvision.transforms as transforms\n",
        "import pandas as pd\n",
        "\n",
        "class SpamDataset(torch.utils.data.Dataset):\n",
        "    def __init__(self, texts, image_paths, labels, languages, tokenizer, transform):\n",
        "        self.texts = texts\n",
        "        self.image_paths = image_paths\n",
        "        self.labels = labels\n",
        "        self.languages = languages\n",
        "        self.tokenizer = tokenizer\n",
        "        self.transform = transform\n",
        "\n",
        "    def __len__(self):\n",
        "        return len(self.labels)\n",
        "\n",
        "    def __getitem__(self, idx):\n",
        "        text = str(self.texts[idx])  # Ensure text is a string\n",
        "        image_path = self.image_paths[idx]\n",
        "        label = self.labels[idx]\n",
        "        language = self.languages[idx]\n",
        "\n",
        "        # Tokenize text\n",
        "        encoding = self.tokenizer(\n",
        "            text,\n",
        "            add_special_tokens=True,\n",
        "            max_length=512,\n",
        "            padding='max_length',\n",
        "            truncation=True,\n",
        "            return_tensors='pt'\n",
        "        )\n",
        "\n",
        "        # Load and transform image\n",
        "        try:\n",
        "            image = Image.open(image_path).convert('RGB')\n",
        "            image = self.transform(image)\n",
        "        except Exception as e:\n",
        "            print(f\"Error loading image {image_path}: {str(e)}\")\n",
        "            # Use a blank image as a fallback\n",
        "            image = torch.zeros(3, 224, 224)\n",
        "\n",
        "        return {\n",
        "            'input_ids': encoding['input_ids'].flatten(),\n",
        "            'attention_mask': encoding['attention_mask'].flatten(),\n",
        "            'image': image,\n",
        "            'label': torch.tensor(label, dtype=torch.long),\n",
        "            'language': language\n",
        "\n",
        "        }\n",
        "\n",
        "\n"
      ],
      "metadata": {
        "id": "sZo0u6nVP0Au"
      },
      "execution_count": null,
      "outputs": []
    },
    {
      "cell_type": "code",
      "source": [
        "import pandas as pd\n",
        "import os\n",
        "\n",
        "\n",
        "def load_and_preprocess_data(csv_path, batch_size=32):\n",
        "    # Load data from CSV\n",
        "    df = pd.read_csv(csv_path)\n",
        "    print(f\"Loaded {len(df)} rows from {csv_path}\")\n",
        "\n",
        "    # Prepend the base directory to the image paths\n",
        "    # base_dir = 'sample_data'  # Adjust this if your directory structure is different\n",
        "    # df['image_path'] = df['image_path'].apply(lambda x: os.path.join(base_dir, x))\n",
        "    # Get the current working directory\n",
        "    base_dir = os.getcwd()\n",
        "\n",
        "    # Prepend the base directory to the image paths\n",
        "    df['image_path'] = df['image_path'].apply(lambda x: os.path.join(base_dir, x))\n",
        "\n",
        "    # Check if image files exist\n",
        "    existing_images = df[df['image_path'].apply(os.path.exists)]\n",
        "    missing_images = len(df) - len(existing_images)\n",
        "    print(f\"Found {len(existing_images)} images. {missing_images} images are missing.\")\n",
        "\n",
        "    # Print a few example paths\n",
        "    print(\"Example image paths:\")\n",
        "    print(df['image_path'].head())\n",
        "\n",
        "    # Define transforms for images\n",
        "    transform = transforms.Compose([\n",
        "        transforms.Resize((224, 224)),\n",
        "        transforms.ToTensor(),\n",
        "        transforms.Normalize(mean=[0.485, 0.456, 0.406], std=[0.229, 0.224, 0.225])\n",
        "    ])\n",
        "\n",
        "    # Create datasets\n",
        "    tokenizer = XLMRobertaTokenizer.from_pretrained('xlm-roberta-base')\n",
        "    print(\"Tokenizer loaded\")\n",
        "\n",
        "    try:\n",
        "        train_dataset = SpamDataset(\n",
        "            train_df['text'].tolist(),\n",
        "            train_df['image_path'].tolist(),\n",
        "            train_df['label'].tolist(),\n",
        "            train_df['language'].tolist(),\n",
        "            tokenizer,\n",
        "            transform\n",
        "        )\n",
        "        print(\"Train dataset created successfully\")\n",
        "\n",
        "        test_dataset = SpamDataset(\n",
        "            test_df['text'].tolist(),\n",
        "            test_df['image_path'].tolist(),\n",
        "            test_df['label'].tolist(),\n",
        "            test_df['language'].tolist(),\n",
        "            tokenizer,\n",
        "            transform\n",
        "        )\n",
        "        print(\"Test dataset created successfully\")\n",
        "\n",
        "        # Create DataLoaders\n",
        "        train_loader = DataLoader(train_dataset, batch_size=batch_size, shuffle=True)\n",
        "        test_loader = DataLoader(test_dataset, batch_size=batch_size, shuffle=False)\n",
        "\n",
        "        return train_loader, test_loader\n",
        "    except Exception as e:\n",
        "        print(f\"Error creating datasets: {str(e)}\")\n",
        "        raise"
      ],
      "metadata": {
        "id": "uH7_4rDnjEhc"
      },
      "execution_count": null,
      "outputs": []
    },
    {
      "cell_type": "code",
      "source": [
        "import torch\n",
        "import torch.nn as nn\n",
        "import torchvision.models as models\n",
        "from transformers import XLMRobertaModel\n",
        "\n",
        "\n",
        "class FeatureExtractor(nn.Module):\n",
        "    print(\"Class definition reached\")\n",
        "\n",
        "    def __init__(self):\n",
        "        print(\"Initializing FeatureExtractor\")\n",
        "        super(FeatureExtractor, self).__init__()\n",
        "\n",
        "        print(\"Loading ResNet152\")\n",
        "        self.image_encoder = models.resnet152(weights=models.ResNet152_Weights.DEFAULT)\n",
        "        self.image_encoder.fc = nn.Identity()\n",
        "\n",
        "        print(\"Loading XLM-RoBERTa\")\n",
        "        self.text_encoder = XLMRobertaModel.from_pretrained('xlm-roberta-base')\n",
        "\n",
        "        print(\"FeatureExtractor initialized\")\n",
        "\n",
        "    def forward(self, images, input_ids, attention_mask):\n",
        "        print(\"Forward method called\")\n",
        "        image_features = self.image_encoder(images)\n",
        "        text_outputs = self.text_encoder(input_ids=input_ids, attention_mask=attention_mask)\n",
        "        text_features = text_outputs.last_hidden_state[:, 0, :]\n",
        "        print(f\"Image features shape: {image_features.shape}\")\n",
        "        print(f\"Text features shape: {text_features.shape}\")\n",
        "        return image_features, text_features\n",
        "\n",
        "print(\"Creating FeatureExtractor instance\")\n",
        "feature_extractor = FeatureExtractor()\n",
        "print(\"FeatureExtractor instance created\")"
      ],
      "metadata": {
        "colab": {
          "base_uri": "https://localhost:8080/"
        },
        "id": "wJNYjcnxkwtC",
        "outputId": "d41b9b2b-43bd-438a-a41c-502276b49dfd"
      },
      "execution_count": null,
      "outputs": [
        {
          "output_type": "stream",
          "name": "stdout",
          "text": [
            "Class definition reached\n",
            "Creating FeatureExtractor instance\n",
            "Initializing FeatureExtractor\n",
            "Loading ResNet152\n",
            "Loading XLM-RoBERTa\n"
          ]
        },
        {
          "output_type": "stream",
          "name": "stderr",
          "text": [
            "/usr/local/lib/python3.10/dist-packages/huggingface_hub/utils/_token.py:89: UserWarning: \n",
            "The secret `HF_TOKEN` does not exist in your Colab secrets.\n",
            "To authenticate with the Hugging Face Hub, create a token in your settings tab (https://huggingface.co/settings/tokens), set it as secret in your Google Colab and restart your session.\n",
            "You will be able to reuse this secret in all of your notebooks.\n",
            "Please note that authentication is recommended but still optional to access public models or datasets.\n",
            "  warnings.warn(\n"
          ]
        },
        {
          "output_type": "stream",
          "name": "stdout",
          "text": [
            "FeatureExtractor initialized\n",
            "FeatureExtractor instance created\n"
          ]
        }
      ]
    },
    {
      "cell_type": "code",
      "source": [
        "# 3. Model Selection\n",
        "\n",
        "class AdvancedMMTD(nn.Module):\n",
        "    def __init__(self, num_classes=2):\n",
        "        super(AdvancedMMTD, self).__init__()\n",
        "\n",
        "        self.feature_extractor = FeatureExtractor()\n",
        "        print(\"Feature extractor loaded\")\n",
        "        # Multimodal Fusion Module\n",
        "        self.fusion = nn.Sequential(\n",
        "            nn.Linear(2048 + 768, 1024),\n",
        "            nn.ReLU(),\n",
        "            nn.Dropout(0.5),\n",
        "            nn.Linear(1024, 512),\n",
        "            nn.ReLU(),\n",
        "            nn.Dropout(0.5),\n",
        "            nn.Linear(512, 256),\n",
        "            nn.ReLU(),\n",
        "            nn.Dropout(0.5),\n",
        "            nn.Linear(256, num_classes)\n",
        "        )\n",
        "\n",
        "        # Attention mechanism\n",
        "        self.attention = nn.MultiheadAttention(embed_dim=2048 + 768, num_heads=8)\n",
        "\n",
        "    def forward(self, images, input_ids, attention_mask):\n",
        "        # Extract features\n",
        "        image_features, text_features = self.feature_extractor(images, input_ids, attention_mask)\n",
        "\n",
        "        # Concatenate features\n",
        "        combined_features = torch.cat((image_features, text_features), dim=1)\n",
        "\n",
        "        # Apply attention mechanism\n",
        "        attended_features, _ = self.attention(combined_features.unsqueeze(0), combined_features.unsqueeze(0), combined_features.unsqueeze(0))\n",
        "        attended_features = attended_features.squeeze(0)\n",
        "\n",
        "        # Fusion and classification\n",
        "        output = self.fusion(attended_features)\n",
        "\n",
        "        return output\n"
      ],
      "metadata": {
        "id": "dQoyl0DElFbM"
      },
      "execution_count": null,
      "outputs": []
    },
    {
      "cell_type": "code",
      "source": [
        "\n",
        "# 4. Training Process\n",
        "\n",
        "def train_model(model, train_loader, val_loader, num_epochs, lr, device, accumulation_steps=1):\n",
        "    criterion = nn.CrossEntropyLoss()\n",
        "    optimizer = optim.AdamW(model.parameters(), lr=lr, weight_decay=0.01)\n",
        "    scheduler = optim.lr_scheduler.ReduceLROnPlateau(optimizer, mode='min', factor=0.1, patience=5)\n",
        "\n",
        "    best_val_loss = float('inf')\n",
        "    for epoch in range(num_epochs):\n",
        "        model.train()\n",
        "        train_loss = 0.0\n",
        "        for i, batch in enumerate(train_loader):\n",
        "            input_ids = batch['input_ids'].to(device)\n",
        "            attention_mask = batch['attention_mask'].to(device)\n",
        "            images = batch['image'].to(device)\n",
        "            labels = batch['label'].to(device)\n",
        "\n",
        "            outputs = model(images, input_ids, attention_mask)\n",
        "            loss = criterion(outputs, labels)\n",
        "            loss = loss / accumulation_steps  # Normalize the loss\n",
        "            loss.backward()\n",
        "\n",
        "            if (i + 1) % accumulation_steps == 0:\n",
        "                optimizer.step()\n",
        "                optimizer.zero_grad()\n",
        "\n",
        "            train_loss += loss.item() * accumulation_steps\n",
        "\n",
        "        # Calculate average training loss\n",
        "        train_loss /= len(train_loader)\n",
        "\n",
        "        # Validation loop\n",
        "        model.eval()\n",
        "        val_loss = 0.0\n",
        "        val_correct = 0\n",
        "        val_total = 0\n",
        "        with torch.no_grad():\n",
        "            for batch in val_loader:\n",
        "                input_ids = batch['input_ids'].to(device)\n",
        "                attention_mask = batch['attention_mask'].to(device)\n",
        "                images = batch['image'].to(device)\n",
        "                labels = batch['label'].to(device)\n",
        "\n",
        "                outputs = model(images, input_ids, attention_mask)\n",
        "                loss = criterion(outputs, labels)\n",
        "                val_loss += loss.item()\n",
        "\n",
        "                _, predicted = torch.max(outputs.data, 1)\n",
        "                val_total += labels.size(0)\n",
        "                val_correct += (predicted == labels).sum().item()\n",
        "\n",
        "        # Calculate average validation loss and accuracy\n",
        "        val_loss /= len(val_loader)\n",
        "        val_accuracy = val_correct / val_total\n",
        "\n",
        "        # Print epoch results\n",
        "        print(f'Epoch [{epoch+1}/{num_epochs}], '\n",
        "              f'Train Loss: {train_loss:.4f}, '\n",
        "              f'Val Loss: {val_loss:.4f}, '\n",
        "              f'Val Accuracy: {val_accuracy:.4f}')\n",
        "\n",
        "        # Learning rate scheduler step\n",
        "        scheduler.step(val_loss)\n",
        "\n",
        "        # Save the best model\n",
        "        if val_loss < best_val_loss:\n",
        "            best_val_loss = val_loss\n",
        "            torch.save(model.state_dict(), 'best_model.pth')\n",
        "            print(f'Best model saved with validation loss: {best_val_loss:.4f}')\n",
        "\n",
        "    print('Training completed.')\n",
        "    return model"
      ],
      "metadata": {
        "id": "2p1qYvDVlJ2k"
      },
      "execution_count": null,
      "outputs": []
    },
    {
      "cell_type": "code",
      "source": [
        "\n",
        "\n",
        "# 5. Model Evaluation\n",
        "\n",
        "def evaluate_model(model, test_loader, device):\n",
        "    model.eval()\n",
        "    all_preds = []\n",
        "    all_labels = []\n",
        "\n",
        "    with torch.no_grad():\n",
        "        for batch in test_loader:\n",
        "            input_ids = batch['input_ids'].to(device)\n",
        "            attention_mask = batch['attention_mask'].to(device)\n",
        "            images = batch['image'].to(device)\n",
        "            labels = batch['label'].to(device)\n",
        "\n",
        "            outputs = model(images, input_ids, attention_mask)\n",
        "            _, preds = torch.max(outputs, 1)\n",
        "\n",
        "            all_preds.extend(preds.cpu().numpy())\n",
        "            all_labels.extend(labels.cpu().numpy())\n",
        "\n",
        "    accuracy = accuracy_score(all_labels, all_preds)\n",
        "    precision = precision_score(all_labels, all_preds, average='weighted')\n",
        "    recall = recall_score(all_labels, all_preds, average='weighted')\n",
        "    f1 = f1_score(all_labels, all_preds, average='weighted')\n",
        "\n",
        "    print(f'Accuracy: {accuracy:.4f}')\n",
        "    print(f'Precision: {precision:.4f}')\n",
        "    print(f'Recall: {recall:.4f}')\n",
        "    print(f'F1 Score: {f1:.4f}')\n",
        "\n",
        "    # Confusion Matrix\n",
        "    cm = confusion_matrix(all_labels, all_preds)\n",
        "    plt.figure(figsize=(10,7))\n",
        "    sns.heatmap(cm, annot=True, fmt='d')\n",
        "    plt.title('Confusion Matrix')\n",
        "    plt.ylabel('Actual')\n",
        "    plt.xlabel('Predicted')\n",
        "    plt.show()"
      ],
      "metadata": {
        "id": "yxeaTV88lMcD"
      },
      "execution_count": null,
      "outputs": []
    },
    {
      "cell_type": "code",
      "execution_count": null,
      "metadata": {
        "id": "vuU-IYzlcpeS",
        "colab": {
          "base_uri": "https://localhost:8080/"
        },
        "outputId": "6fe615b4-c8c9-4a73-fa5b-bc3d87239dde"
      },
      "outputs": [
        {
          "output_type": "stream",
          "name": "stdout",
          "text": [
            "Using device: cpu\n",
            "Loaded 17830 rows from train_multilingual_multimodal_spam.csv\n",
            "Found 17830 images. 0 images are missing.\n",
            "Example image paths:\n",
            "0    /content/ham_images/zzz_412523576_045b3e623c_m...\n",
            "1       /content/ham_images/zzz_82495_d51590f351_m.jpg\n",
            "2       /content/ham_images/zzz_65443_8037b212d7_m.jpg\n",
            "3                  /content/spam_images/D2gfNHPSLU.jpg\n",
            "4        /content/ham_images/zzz_7359_449584eb9a_m.jpg\n",
            "Name: image_path, dtype: object\n"
          ]
        },
        {
          "output_type": "stream",
          "name": "stderr",
          "text": [
            "/usr/local/lib/python3.10/dist-packages/transformers/tokenization_utils_base.py:1601: FutureWarning: `clean_up_tokenization_spaces` was not set. It will be set to `True` by default. This behavior will be depracted in transformers v4.45, and will be then set to `False` by default. For more details check this issue: https://github.com/huggingface/transformers/issues/31884\n",
            "  warnings.warn(\n"
          ]
        },
        {
          "output_type": "stream",
          "name": "stdout",
          "text": [
            "Tokenizer loaded\n",
            "Train dataset created successfully\n",
            "Test dataset created successfully\n",
            "Data loaded and preprocessed\n",
            "Initializing FeatureExtractor\n",
            "Loading ResNet152\n",
            "Loading XLM-RoBERTa\n",
            "FeatureExtractor initialized\n",
            "Feature extractor loaded\n",
            "Model initialized\n",
            "Forward method called\n",
            "Image features shape: torch.Size([4, 2048])\n",
            "Text features shape: torch.Size([4, 768])\n",
            "Forward method called\n",
            "Image features shape: torch.Size([4, 2048])\n",
            "Text features shape: torch.Size([4, 768])\n",
            "Forward method called\n",
            "Image features shape: torch.Size([4, 2048])\n",
            "Text features shape: torch.Size([4, 768])\n",
            "Forward method called\n",
            "Image features shape: torch.Size([4, 2048])\n",
            "Text features shape: torch.Size([4, 768])\n",
            "Forward method called\n",
            "Image features shape: torch.Size([4, 2048])\n",
            "Text features shape: torch.Size([4, 768])\n",
            "Forward method called\n",
            "Image features shape: torch.Size([4, 2048])\n",
            "Text features shape: torch.Size([4, 768])\n",
            "Forward method called\n",
            "Image features shape: torch.Size([4, 2048])\n",
            "Text features shape: torch.Size([4, 768])\n",
            "Forward method called\n",
            "Image features shape: torch.Size([4, 2048])\n",
            "Text features shape: torch.Size([4, 768])\n",
            "Forward method called\n",
            "Image features shape: torch.Size([4, 2048])\n",
            "Text features shape: torch.Size([4, 768])\n",
            "Forward method called\n"
          ]
        }
      ],
      "source": [
        "import torch\n",
        "from torch.utils.data import DataLoader\n",
        "\n",
        "# Main execution\n",
        "if __name__ == '__main__':\n",
        "    device = torch.device('cuda' if torch.cuda.is_available() else 'cpu')\n",
        "    print(f\"Using device: {device}\")\n",
        "\n",
        "    # Reduce batch size\n",
        "    batch_size = 4  # Start with a small batch size\n",
        "    train_loader, test_loader = load_and_preprocess_data('train_multilingual_multimodal_spam.csv', batch_size=batch_size)\n",
        "    print(\"Data loaded and preprocessed\")\n",
        "\n",
        "    # Use a smaller model for testing\n",
        "    model = AdvancedMMTD(num_classes=2).to(device)\n",
        "    print(\"Model initialized\")\n",
        "\n",
        "    # Reduce number of epochs for testing\n",
        "    num_epochs = 5\n",
        "    learning_rate = 2e-5\n",
        "\n",
        "    # Implement gradient accumulation\n",
        "    accumulation_steps = 8  # Accumulate gradients over 8 mini-batches\n",
        "    trained_model = train_model(model, train_loader, test_loader, num_epochs=num_epochs,\n",
        "                                lr=learning_rate, device=device, accumulation_steps=accumulation_steps)\n",
        "    print(\"Model training completed\")\n",
        "\n",
        "    # Evaluate model\n",
        "    print(\"Evaluating model...\")\n",
        "    evaluate_model(trained_model, test_loader, device)\n",
        "    print(\"Model evaluation completed\")\n",
        "\n",
        "    # Test model\n",
        "    print(\"Testing model...\")\n",
        "    test_predictions = test_model(trained_model, test_loader, device)\n",
        "    print(\"Model testing completed. Predictions are stored in 'test_predictions'.\")\n",
        "\n",
        "    # Save the trained model\n",
        "    print(\"Saving model...\")\n",
        "    torch.save(trained_model.state_dict(), 'trained_spam_model.pth')\n",
        "    print(\"Trained model saved to 'trained_spam_model.pth'\")\n",
        "\n",
        "    # Optional: Save test predictions to a file\n",
        "    import pandas as pd\n",
        "    test_df = pd.read_csv('test_multilingual_multimodal_spam.csv')\n",
        "    test_df['predicted_label'] = test_predictions\n",
        "    test_df.to_csv('test_results_with_predictions.csv', index=False)\n",
        "    print(\"Test results with predictions saved to 'test_results_with_predictions.csv'\")\n",
        "\n",
        "    print(\"All processes completed successfully!\")"
      ]
    },
    {
      "cell_type": "code",
      "source": [
        "\n",
        "# 6. Model Testing\n",
        "\n",
        "def test_model(model, test_loader, device):\n",
        "    model.eval()\n",
        "    all_preds = []\n",
        "\n",
        "    with torch.no_grad():\n",
        "        for batch in test_loader:\n",
        "            input_ids = batch['input_ids'].to(device)\n",
        "            attention_mask = batch['attention_mask'].to(device)\n",
        "            images = batch['image'].to(device)\n",
        "\n",
        "            outputs = model(images, input_ids, attention_mask)\n",
        "            _, preds = torch.max(outputs, 1)\n",
        "\n",
        "            all_preds.extend(preds.cpu().numpy())\n",
        "\n",
        "    return all_preds\n"
      ],
      "metadata": {
        "id": "mu_M1ZNOlPyr"
      },
      "execution_count": null,
      "outputs": []
    }
  ]
}