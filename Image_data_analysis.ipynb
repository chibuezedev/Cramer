import pandas as pd
import matplotlib.pyplot as plt
import seaborn as sns
from sklearn.model_selection import train_test_split
import os
import random
from tqdm import tqdm

# Load the dataset
df = pd.read_csv('data-en-hi-de-fr.csv')

# Display basic information
print(df.info())
print(df.head())

# Check class distribution
plt.figure(figsize=(10, 6))
sns.countplot(x='labels', data=df)
plt.title('Distribution of Spam and Ham')
plt.show()

# Preprocess the dataset
# Ensure 'labels' column is binary (0 for ham, 1 for spam)
df['labels'] = df['labels'].map({'ham': 0, 'spam': 1})

# Restructure the dataframe to have a single 'text' column and a 'language' column
languages = ['en', 'hi', 'de', 'fr']
new_rows = []

for _, row in df.iterrows():
    for lang in languages:
        if lang == 'en':
            text_col = 'text'
        else:
            text_col = f'text_{lang}'
        new_rows.append({
            'label': row['labels'],
            'text': row[text_col],
            'language': lang
        })

new_df = pd.DataFrame(new_rows)

# Check language distribution
plt.figure(figsize=(10, 6))
sns.countplot(x='language', data=new_df)
plt.title('Distribution of Languages')
plt.show()

# Split the dataset into train and test sets
train_df, test_df = train_test_split(new_df, test_size=0.2, stratify=new_df[['label', 'language']], random_state=42)

print(f"Training set shape: {train_df.shape}")
print(f"Test set shape: {test_df.shape}")
